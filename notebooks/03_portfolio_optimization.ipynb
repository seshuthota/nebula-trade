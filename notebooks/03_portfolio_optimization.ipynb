{
 "cells": [
  {
   "cell_type": "markdown",
   "metadata": {},
   "source": [
    "# Project Astra: Portfolio Optimization Experiments\n",
    "\n",
    "This notebook demonstrates the end-to-end pipeline for portfolio optimization using RL and classical methods.\n",
    "\n",
    "Focus: NIFTY Bank portfolio with daily rebalancing."
   ]
  },
  {
   "cell_type": "markdown",
   "metadata": {},
   "source": [
    "## Setup and Imports"
   ]
  },
  {
   "cell_type": "code",
   "execution_count": null,
   "metadata": {},
   "outputs": [],
   "source": [
    "import sys\n",
    "import os\n",
    "from pathlib import Path\n",
    "sys.path.append('..')\n",
    "\n",
    "import pandas as pd\n",
    "import numpy as np\n",
    "import matplotlib.pyplot as plt\n",
    "import seaborn as sns\n",
    "import yaml\n",
    "import logging\n",
    "\n",
    "from astra.data_pipeline.downloader import PortfolioDataDownloader\n",
    "from astra.data_pipeline.preprocessor import PortfolioDataPreprocessor\n",
    "from astra.data_pipeline.data_manager import PortfolioDataManager\n",
    "from astra.rl_framework.environment import PortfolioEnvironment\n",
    "from astra.rl_framework.trainer import PortfolioTrainer\n",
    "from astra.evaluation.optimizer import ClassicalPortfolioOptimizer, PortfolioBacktester\n",
    "\n",
    "# Set up logging\n",
    "logging.basicConfig(level=logging.INFO)\n",
    "plt.style.use('seaborn-v0_8')\n",
    "sns.set_palette(\"husl\")\n",
    "\n",
    "print(\"Libraries imported successfully!\")"
   ]
  },
  {
   "cell_type": "markdown",
   "metadata": {},
   "source": [
    "## Configuration"
   ]
  },
  {
   "cell_type": "code",
   "execution_count": null,
   "metadata": {},
   "outputs": [],
   "source": [
    "# Load config\n",
    "project_root = Path().resolve()\n",
    "config_candidates = [\n",
    "    project_root / 'config/portfolio.yaml',\n",
    "    project_root.parent / 'config/portfolio.yaml'\n",
    "]\n",
    "for candidate in config_candidates:\n",
    "    if candidate.exists():\n",
    "        CONFIG_PATH = candidate\n",
    "        break\n",
    "else:\n",
    "    raise FileNotFoundError(f\"Config file not found. Tried: {config_candidates}\")\n",
    "\n",
    "with open(CONFIG_PATH, 'r') as f:\n",
    "    config = yaml.safe_load(f)\n",
    "\n",
    "print(\"Portfolio Configuration:\")\n",
    "print(f\"Assets: {config['portfolio']['assets']}\")\n",
    "print(f\"Initial weights mode: {config['portfolio']['initial_weights']['mode']}\")\n",
    "print(f\"Cash buffer: {config['portfolio']['initial_weights']['cash_buffer']}\")"
   ]
  },
  {
   "cell_type": "markdown",
   "metadata": {},
   "source": [
    "## Data Pipeline"
   ]
  },
  {
   "cell_type": "markdown",
   "metadata": {},
   "source": [
    "### Download Data"
   ]
  },
  {
   "cell_type": "code",
   "execution_count": null,
   "metadata": {},
   "outputs": [],
   "source": [
    "# Download NIFTY Bank data\n",
    "downloader = PortfolioDataDownloader(config_path=CONFIG_PATH)\n",
    "portfolio_data = downloader.download_portfolio_data()\n",
    "print(f\"Downloaded data shape: {portfolio_data.shape}\")\n",
    "print(f\"Date range: {portfolio_data.index.min()} to {portfolio_data.index.max()}\")\n",
    "\n",
    "# Save raw data\n",
    "downloader.save_data(portfolio_data)"
   ]
  },
  {
   "cell_type": "markdown",
   "metadata": {},
   "source": [
    "### Preprocessing"
   ]
  },
  {
   "cell_type": "code",
   "execution_count": null,
   "metadata": {},
   "outputs": [],
   "source": [
    "# Process data\n",
    "preprocessor = PortfolioDataPreprocessor(config_path=CONFIG_PATH)\n",
    "processed_data = preprocessor.process_all()\n",
    "print(f\"Processed data shape: {processed_data.shape}\")\n",
    "print(f\"Features added: {[col for col in processed_data.columns if not col.endswith('_close')]}\")\n",
    "\n",
    "# Show sample\n",
    "display(processed_data.head())"
   ]
  },
  {
   "cell_type": "markdown",
   "metadata": {},
   "source": [
    "### Initialize Portfolio"
   ]
  },
  {
   "cell_type": "code",
   "execution_count": null,
   "metadata": {},
   "outputs": [],
   "source": [
    "# Data manager to handle initialization\n",
    "manager = PortfolioDataManager(config_path=CONFIG_PATH)\n",
    "data, initial_state = manager.process_and_initialize()\n",
    "\n",
    "print(f\"Initial portfolio value: ₹{initial_state['portfolio_value']:,.2f}\")\n",
    "print(f\"Initial weights:\")\n",
    "for asset, weight in initial_state['weights'].items():\n",
    "    if asset != 'cash':\n",
    "        print(f\"  {asset}: {weight:.3f}\")\n",
    "print(f\"Cash: {initial_state['weights']['cash']:.3f}\")"
   ]
  },
  {
   "cell_type": "markdown",
   "metadata": {},
   "source": [
    "## Exploratory Data Analysis"
   ]
  },
  {
   "cell_type": "code",
   "execution_count": null,
   "metadata": {},
   "outputs": [],
   "source": [
    "# Price evolution\n",
    "price_cols = [col for col in processed_data.columns if '_close' in col]\n",
    "processed_data[price_cols].plot(figsize=(12, 6), title='NIFTY Bank Asset Prices')\n",
    "plt.ylabel('Price (₹)')\n",
    "plt.show()\n",
    "\n",
    "# Returns distribution\n",
    "return_cols = [col for col in processed_data.columns if '_returns' in col and not col.startswith('portfolio')]\n",
    "processed_data[return_cols].plot.hist(bins=50, alpha=0.7, figsize=(10, 6), title='Daily Returns Distribution')\n",
    "plt.xlabel('Daily Return')\n",
    "plt.show()\n",
    "\n",
    "# Correlation heatmap\n",
    "returns_df = processed_data[return_cols].rename(columns={col: col.replace('_returns', '') for col in return_cols})\n",
    "correlation = returns_df.corr()\n",
    "plt.figure(figsize=(8, 6))\n",
    "sns.heatmap(correlation, annot=True, cmap='coolwarm', center=0)\n",
    "plt.title('Asset Returns Correlation')\n",
    "plt.show()\n",
    "\n",
    "# Volatility\n",
    "vol_cols = [col for col in processed_data.columns if '_volatility' in col]\n",
    "if vol_cols:\n",
    "    processed_data[vol_cols].plot(figsize=(10, 6), title='Rolling 30-Day Volatility')\n",
    "    plt.ylabel('Volatility')\n",
    "    plt.show()"
   ]
  },
  {
   "cell_type": "markdown",
   "metadata": {},
   "source": [
    "## Classical Portfolio Optimization"
   ]
  },
  {
   "cell_type": "code",
   "execution_count": null,
   "metadata": {},
   "outputs": [],
   "source": [
    "# Prepare returns data for optimization\n",
    "returns_cols = [f\"{asset}_returns\" for asset in config['portfolio']['assets']]\n",
    "returns_clean = processed_data[returns_cols].dropna()\n",
    "\n",
    "# Classical optimization\n",
    "optimizer = ClassicalPortfolioOptimizer(returns_clean)\n",
    "classical_portfolios = optimizer.get_all_portfolios()\n",
    "\n",
    "print(\"Classical Portfolio Results:\")\n",
    "for name, portfolio in classical_portfolios.items():\n",
    "    print(f\"\\n{name.upper()}:\")\n",
    "    print(f\"  Expected Return: {portfolio['expected_return']:.4f}\")\n",
    "    print(f\"  Expected Volatility: {portfolio['expected_volatility']:.4f}\")\n",
    "    print(f\"  Sharpe Ratio: {portfolio['sharpe_ratio']:.4f}\")\n",
    "    print(f\"  Weights: {dict(zip(config['portfolio']['assets'], portfolio['weights']))}\")\n",
    "\n",
    "# Visualize weights\n",
    "weights_df = pd.DataFrame({name: portfolio['weights'] for name, portfolio in classical_portfolios.items()},\n",
    "                         index=config['portfolio']['assets'])\n",
    "weights_df.plot(kind='bar', figsize=(12, 6), title='Classical Portfolio Weights')\n",
    "plt.ylabel('Weight')\n",
    "plt.xticks(rotation=45)\n",
    "plt.legend(bbox_to_anchor=(1.05, 1), loc='upper left')\n",
    "plt.tight_layout()\n",
    "plt.show()"
   ]
  },
  {
   "cell_type": "markdown",
   "metadata": {},
   "source": [
    "## Backtest Classical Portfolios"
   ]
  },
  {
   "cell_type": "code",
   "execution_count": null,
   "metadata": {},
   "outputs": [],
   "source": [
    "# Backtest all classical portfolios\n",
    "backtester = PortfolioBacktester(processed_data)\n",
    "backtest_results = {}\n",
    "\n",
    "for name, portfolio in classical_portfolios.items():\n",
    "    result = backtester.backtest_portfolio(portfolio['weights'])\n",
    "    backtest_results[name] = result\n",
    "    print(f\"\\n{name.upper()} Backtest:\")\n",
    "    print(f\"  Final Value: ₹{result['final_value']:,.2f}\")\n",
    "    print(f\"  Total Return: {result['total_return']:.4f}\")\n",
    "    print(f\"  Sharpe Ratio: {result['sharpe_ratio']:.4f}\")\n",
    "    print(f\"  Max Drawdown: {result['max_drawdown']:.4f}\")\n",
    "\n",
    "# Plot portfolio values\n",
    "plt.figure(figsize=(14, 8))\n",
    "for name, result in backtest_results.items():\n",
    "    plt.plot(result['portfolio_values'], label=name.replace('_', ' ').title())\n",
    "\n",
    "plt.title('Classical Portfolios - Value Over Time')\n",
    "plt.xlabel('Date')\n",
    "plt.ylabel('Portfolio Value (₹)')\n",
    "plt.legend()\n",
    "plt.grid(True, alpha=0.3)\n",
    "plt.show()"
   ]
  },
  {
   "cell_type": "markdown",
   "metadata": {},
   "source": [
    "## RL Training (Base Infrastructure)"
   ]
  },
  {
   "cell_type": "code",
   "execution_count": null,
   "metadata": {},
   "outputs": [],
   "source": [
    "# Initialize RL environment and trainer\n",
    "trainer = PortfolioTrainer(config_path=CONFIG_PATH)\n",
    "\n",
    "# Quick training demo\n",
    "# Note: This may take time and resources\n",
    "# trainer.train(total_timesteps=5000)\n",
    "\n",
    "# For demo, just test environment\n",
    "env = trainer.env\n",
    "env = trainer.env\n",
    "obs, _ = env.reset()\n",
    "\n",
    "print(\"Testing RL Environment...\")\n",
    "for step in range(10):  # Short demo\n",
    "    action = env.action_space.sample()  # Random action\n",
    "    obs, reward, done, info = env.step(action)\n",
    "    obs, reward, terminated, truncated, info = env.step(action)\n",
    "    \n",
    "    if step % 5 == 0:\n",
    "        print(f\"Step {step}: Portfolio Value = ₹{info['portfolio_value']:,.2f}, Reward = {reward:.6f}\")\n",
    "    \n",
    "    if done:\n",
    "    if terminated or truncated:\n",
    "\n",
    "print(f\"Demo completed. Total reward over 10 steps: {total_reward:.6f}\")\n",
    "print(f\"Final portfolio value: ₹{info['portfolio_value']:,.2f}\")"
   ]
  },
  {
   "cell_type": "markdown",
   "metadata": {},
   "source": [
    "## Comparison and Summary"
   ]
  },
  {
   "cell_type": "code",
   "execution_count": null,
   "metadata": {},
   "outputs": [],
   "source": [
    "# Compare performance\n",
    "comparison_data = []\n",
    "\n",
    "for name, result in backtest_results.items():\n",
    "    comparison_data.append({\n",
    "        'Strategy': name.replace('_', ' ').title(),\n",
    "        'Type': 'Classical',\n",
    "        'Final_Value': result['final_value'],\n",
    "        'Total_Return': result['total_return'],\n",
    "        'Sharpe_Ratio': result['sharpe_ratio'],\n",
    "        'Max_Drawdown': result['max_drawdown']\n",
    "    })\n",
    "\n",
    "# RL placeholder (when trained)\n",
    "# comparison_data.append({\n",
    "#     'Strategy': 'RL SAC',\n",
    "#     'Type': 'RL',\n",
    "#     'Final_Value': rl_final_value,\n",
    "#     'Total_Return': rl_total_return,\n",
    "#     'Sharpe_Ratio': rl_sharpe,\n",
    "#     'Max_Drawdown': rl_max_dd\n",
    "# })\n",
    "\n",
    "# Create comparison table\n",
    "comparison_df = pd.DataFrame(comparison_data)\n",
    "display(comparison_df.round(4))\n",
    "\n",
    "# Visualize key metrics\n",
    "fig, axes = plt.subplots(2, 2, figsize=(12, 8))\n",
    "\n",
    "# Sharpe Ratio\n",
    "axes[0,0].bar(comparison_df['Strategy'], comparison_df['Sharpe_Ratio'])\n",
    "axes[0,0].set_title('Sharpe Ratio')\n",
    "axes[0,0].tick_params(axis='x', rotation=45)\n",
    "\n",
    "# Total Return\n",
    "axes[0,1].bar(comparison_df['Strategy'], comparison_df['Total_Return'])\n",
    "axes[0,1].set_title('Total Return')\n",
    "axes[0,1].tick_params(axis='x', rotation=45)\n",
    "\n",
    "# Max Drawdown\n",
    "axes[1,0].bar(comparison_df['Strategy'], comparison_df['Max_Drawdown'])\n",
    "axes[1,0].set_title('Max Drawdown')\n",
    "axes[1,0].tick_params(axis='x', rotation=45)\n",
    "\n",
    "# Final Value\n",
    "axes[1,1].bar(comparison_df['Strategy'], comparison_df['Final_Value'])\n",
    "axes[1,1].set_title('Final Portfolio Value (₹)')\n",
    "axes[1,1].tick_params(axis='x', rotation=45)\n",
    "\n",
    "plt.tight_layout()\n",
    "plt.show()\n",
    "\n",
    "print(\"\\n\" + \"=\"*60)\n",
    "print(\"EXPERIMENT SUMMARY\")\n",
    "print(\"=\"*60)\n",
    "print(f\"Portfolio: {', '.join(config['portfolio']['assets'])}\")\n",
    "print(f\"Data Period: {processed_data.index.min()} to {processed_data.index.max()}\")\n",
    "print(f\"Trading Days: {len(processed_data)}\")\n",
    "print()\n",
    "print(\"Classical optimization successfully implemented.\")\n",
    "print(\"RL environment ready for training.\")\n",
    "print(\"Next steps: Train RL agent and compare with classical methods.\")\n",
    "print(\"=\"*60)"
   ]
  }
 ],
 "metadata": {
  "kernelspec": {
   "display_name": "Python 3",
   "language": "python",
   "name": "python3"
  },
  "language_info": {
   "codemirror_mode": {
    "name": "ipython",
    "version": 3
   },
   "file_extension": ".py",
   "mimetype": "text/x-python",
   "name": "python",
   "nbconvert_exporter": "python",
   "pygments_lexer": "ipython3",
   "version": "3.10.0"
  }
 },
 "nbformat": 4,
 "nbformat_minor": 4
}
